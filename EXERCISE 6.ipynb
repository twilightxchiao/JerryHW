{
 "cells": [
  {
   "cell_type": "markdown",
   "metadata": {},
   "source": [
    "###### EXERCISE6"
   ]
  },
  {
   "cell_type": "raw",
   "metadata": {},
   "source": [
    "# EXERCISE6"
   ]
  },
  {
   "cell_type": "code",
   "execution_count": 1,
   "metadata": {},
   "outputs": [],
   "source": [
    "# EXERCISE6"
   ]
  },
  {
   "cell_type": "markdown",
   "metadata": {},
   "source": [
    "# EXERCISE6"
   ]
  },
  {
   "cell_type": "code",
   "execution_count": 30,
   "metadata": {},
   "outputs": [],
   "source": [
    "def iron_man_def(color):\n",
    "    if color == \"紅色\":\n",
    "        return(\"鋼鐵人盔甲是紅色的\")\n",
    "    elif color == \"綠色\":\n",
    "        return(\"鋼鐵人其實也可以參考浩克的顏色\")\n",
    "    elif color == \"藍色\":\n",
    "        return(\"鋼鐵人變成藍色小精靈也不錯\")\n",
    "    else:\n",
    "        return(\"好像沒這種顏色\",color)"
   ]
  },
  {
   "cell_type": "code",
   "execution_count": 32,
   "metadata": {},
   "outputs": [
    {
     "name": "stdout",
     "output_type": "stream",
     "text": [
      "鋼鐵人盔甲是紅色的\n"
     ]
    }
   ],
   "source": [
    "print(iron_man_def(\"紅色\"))"
   ]
  },
  {
   "cell_type": "code",
   "execution_count": null,
   "metadata": {},
   "outputs": [],
   "source": []
  },
  {
   "cell_type": "code",
   "execution_count": null,
   "metadata": {},
   "outputs": [],
   "source": []
  }
 ],
 "metadata": {
  "kernelspec": {
   "display_name": "Python 3",
   "language": "python",
   "name": "python3"
  },
  "language_info": {
   "codemirror_mode": {
    "name": "ipython",
    "version": 3
   },
   "file_extension": ".py",
   "mimetype": "text/x-python",
   "name": "python",
   "nbconvert_exporter": "python",
   "pygments_lexer": "ipython3",
   "version": "3.6.4"
  }
 },
 "nbformat": 4,
 "nbformat_minor": 2
}
