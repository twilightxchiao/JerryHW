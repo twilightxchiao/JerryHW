{
 "cells": [
  {
   "cell_type": "code",
   "execution_count": 1,
   "metadata": {},
   "outputs": [],
   "source": [
    "#EXERCISE2"
   ]
  },
  {
   "cell_type": "code",
   "execution_count": 1,
   "metadata": {},
   "outputs": [
    {
     "name": "stdout",
     "output_type": "stream",
     "text": [
      "猜猜幸運數字?[按q取消]:7\n",
      "猜猜幸運數字?[按q取消]:6\n",
      "猜猜幸運數字?[按q取消]:5\n",
      "猜猜幸運數字?[按q取消]:5555\n",
      "猜猜幸運數字?[按q取消]:8888\n",
      "猜猜幸運數字?[按q取消]:8\n"
     ]
    }
   ],
   "source": [
    "while True:\n",
    "    name = input(\"猜猜幸運數字?[按q取消]:\")\n",
    "    if name ==\"8\":\n",
    "        break\n",
    "        print(\"你永遠猜不到\")\n",
    "    elif name=='q':\n",
    "        break\n",
    "   "
   ]
  },
  {
   "cell_type": "code",
   "execution_count": null,
   "metadata": {},
   "outputs": [],
   "source": []
  },
  {
   "cell_type": "code",
   "execution_count": null,
   "metadata": {},
   "outputs": [],
   "source": []
  },
  {
   "cell_type": "code",
   "execution_count": null,
   "metadata": {},
   "outputs": [],
   "source": []
  }
 ],
 "metadata": {
  "kernelspec": {
   "display_name": "Python 3",
   "language": "python",
   "name": "python3"
  },
  "language_info": {
   "codemirror_mode": {
    "name": "ipython",
    "version": 3
   },
   "file_extension": ".py",
   "mimetype": "text/x-python",
   "name": "python",
   "nbconvert_exporter": "python",
   "pygments_lexer": "ipython3",
   "version": "3.6.4"
  }
 },
 "nbformat": 4,
 "nbformat_minor": 2
}
